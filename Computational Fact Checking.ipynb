{
 "cells": [
  {
   "cell_type": "markdown",
   "metadata": {},
   "source": [
    "# Computational Fact Checking Using Knowledge Graphs"
   ]
  },
  {
   "cell_type": "markdown",
   "metadata": {},
   "source": [
    "**Necessary Import Statements**\n",
    "Run this first."
   ]
  },
  {
   "cell_type": "code",
   "execution_count": 2,
   "metadata": {},
   "outputs": [
    {
     "name": "stdout",
     "output_type": "stream",
     "text": [
      "[nltk_data] Downloading package wordnet to\n",
      "[nltk_data]     C:\\Users\\Leryc\\AppData\\Roaming\\nltk_data...\n",
      "[nltk_data]   Package wordnet is already up-to-date!\n"
     ]
    },
    {
     "name": "stderr",
     "output_type": "stream",
     "text": [
      "C:\\Users\\Leryc\\Envs\\thesis\\lib\\site-packages\\sklearn\\ensemble\\weight_boosting.py:29: DeprecationWarning: numpy.core.umath_tests is an internal NumPy module and should not be imported. It will be removed in a future NumPy release.\n",
      "  from numpy.core.umath_tests import inner1d\n"
     ]
    }
   ],
   "source": [
    "%matplotlib inline\n",
    "\n",
    "import sys\n",
    "from enum import Enum\n",
    "from collections import OrderedDict\n",
    "\n",
    "import csv, math, string\n",
    "import numpy as np, pandas as pd\n",
    "import matplotlib.pyplot as plt\n",
    "\n",
    "from scrapers import logger\n",
    "from Truth import Page, get_truth_value, get_truth_value_old, get_utfidf, get_truth_matrices, get_mx\n",
    "\n",
    "\n",
    "from sklearn.metrics import roc_curve, confusion_matrix, classification_report\n",
    "\n",
    "\n",
    "from sklearn.svm import LinearSVC\n",
    "from sklearn.ensemble import RandomForestClassifier\n",
    "from sklearn.model_selection import cross_val_predict, cross_val_score\n",
    "\n",
    "logger.ignorewarnings = True\n",
    "color = plt.cm.Blues"
   ]
  },
  {
   "cell_type": "markdown",
   "metadata": {},
   "source": [
    "## Phase I: Classification Task (Calibration)"
   ]
  },
  {
   "cell_type": "markdown",
   "metadata": {},
   "source": [
    "**Objective**\n",
    "\n",
    "This phase is aimed to answer to objectives 1 & 3.\n",
    "1. Compare the accuracy of using metric and ultra-metric closure for path evaluation.\n",
    "2. Evaluate the accuracy of the path evaluation with cosine similarity and TF-IDF. \n",
    "\n",
    "**Method**\n",
    "\n",
    "Statements in the form of \"Politician $p_{i}$ endorses ideology $i_{j}$ are considered. A matrix of all possible combinations of subjects and objects were then obtained. Each path in the matrix was evaluated to obtain its truth value.\n",
    "\n",
    "Truth matrices were obtained using these 3 algorithms:\n",
    "1. Truth value matrix using metric closure, with TF-IDF and cosine similarity\n",
    "2. Truth value matrix using ultrametric closure, with TF-IDF and cosine similarity\n",
    "3. Truth value matrix using metric closure, using generality only (theoretical framework)\n",
    "\n",
    "Using the truth values of the politicians mapped to the ideologies as features, the politicians will be classified into either republican (R) or democrat (D). The algorithm which results in the highest accuracy will be used for the succeeding phases of this study."
   ]
  },
  {
   "cell_type": "markdown",
   "metadata": {},
   "source": [
    "**Get truth matrices**"
   ]
  },
  {
   "cell_type": "code",
   "execution_count": null,
   "metadata": {},
   "outputs": [],
   "source": [
    "# Uncomment this if making a truth matrix from scratch (takes a VERY long time)\n",
    "# if truth matrices were already calculated, load from the CSV instead (bottom most part of this ntbk)\n",
    "\n",
    "#df = pd.read_csv('data/out/i5/i5.csv', sep=';', index_col=0)\n",
    "#mt, ut, mold = get_truth_matrices(df)\n",
    "#i1_mt = mt"
   ]
  },
  {
   "cell_type": "markdown",
   "metadata": {},
   "source": [
    "**Get target column**"
   ]
  },
  {
   "cell_type": "code",
   "execution_count": 5,
   "metadata": {},
   "outputs": [],
   "source": [
    "\n",
    "# Democrat will be the positive class.\n",
    "def isDemocrat(entity):\n",
    "    return entity.endswith('(D)')\n",
    "y = [isDemocrat(x) for x in i1_mt.index]"
   ]
  },
  {
   "cell_type": "code",
   "execution_count": 2,
   "metadata": {},
   "outputs": [
    {
     "data": {
      "text/html": [
       "<div>\n",
       "<style scoped>\n",
       "    .dataframe tbody tr th:only-of-type {\n",
       "        vertical-align: middle;\n",
       "    }\n",
       "\n",
       "    .dataframe tbody tr th {\n",
       "        vertical-align: top;\n",
       "    }\n",
       "\n",
       "    .dataframe thead th {\n",
       "        text-align: right;\n",
       "    }\n",
       "</style>\n",
       "<table border=\"1\" class=\"dataframe\">\n",
       "  <thead>\n",
       "    <tr style=\"text-align: right;\">\n",
       "      <th></th>\n",
       "      <th>Anarchism</th>\n",
       "      <th>Antisemitism</th>\n",
       "      <th>Capitalism</th>\n",
       "      <th>Christianity</th>\n",
       "      <th>Communism</th>\n",
       "      <th>Conservatism</th>\n",
       "      <th>Democracy</th>\n",
       "      <th>Fascism</th>\n",
       "      <th>Feminism</th>\n",
       "      <th>Islamophobia</th>\n",
       "      <th>Left-wing politics</th>\n",
       "      <th>Liberalism</th>\n",
       "      <th>Marxism</th>\n",
       "      <th>Nationalism</th>\n",
       "      <th>Neo-Nazism</th>\n",
       "      <th>Protestantism</th>\n",
       "      <th>Right-wing politics</th>\n",
       "      <th>Secularism</th>\n",
       "      <th>Socialism</th>\n",
       "      <th>White supremacy</th>\n",
       "    </tr>\n",
       "    <tr>\n",
       "      <th>x-entity</th>\n",
       "      <th></th>\n",
       "      <th></th>\n",
       "      <th></th>\n",
       "      <th></th>\n",
       "      <th></th>\n",
       "      <th></th>\n",
       "      <th></th>\n",
       "      <th></th>\n",
       "      <th></th>\n",
       "      <th></th>\n",
       "      <th></th>\n",
       "      <th></th>\n",
       "      <th></th>\n",
       "      <th></th>\n",
       "      <th></th>\n",
       "      <th></th>\n",
       "      <th></th>\n",
       "      <th></th>\n",
       "      <th></th>\n",
       "      <th></th>\n",
       "    </tr>\n",
       "  </thead>\n",
       "  <tbody>\n",
       "    <tr>\n",
       "      <th>Jo Bonner (R)</th>\n",
       "      <td>0.071048</td>\n",
       "      <td>0.067143</td>\n",
       "      <td>0.054021</td>\n",
       "      <td>0.053941</td>\n",
       "      <td>0.066685</td>\n",
       "      <td>0.072421</td>\n",
       "      <td>0.058368</td>\n",
       "      <td>0.065525</td>\n",
       "      <td>0.044251</td>\n",
       "      <td>0.069056</td>\n",
       "      <td>0.063660</td>\n",
       "      <td>0.053091</td>\n",
       "      <td>0.059485</td>\n",
       "      <td>0.065946</td>\n",
       "      <td>0.096082</td>\n",
       "      <td>0.054214</td>\n",
       "      <td>0.068126</td>\n",
       "      <td>0.050647</td>\n",
       "      <td>0.073818</td>\n",
       "      <td>0.063966</td>\n",
       "    </tr>\n",
       "    <tr>\n",
       "      <th>Martha Roby (R)</th>\n",
       "      <td>0.067763</td>\n",
       "      <td>0.063282</td>\n",
       "      <td>0.064275</td>\n",
       "      <td>0.055059</td>\n",
       "      <td>0.067058</td>\n",
       "      <td>0.098936</td>\n",
       "      <td>0.083081</td>\n",
       "      <td>0.077397</td>\n",
       "      <td>0.062446</td>\n",
       "      <td>0.057294</td>\n",
       "      <td>0.074704</td>\n",
       "      <td>0.075141</td>\n",
       "      <td>0.054051</td>\n",
       "      <td>0.060333</td>\n",
       "      <td>0.089473</td>\n",
       "      <td>0.058659</td>\n",
       "      <td>0.089053</td>\n",
       "      <td>0.064666</td>\n",
       "      <td>0.087194</td>\n",
       "      <td>0.065397</td>\n",
       "    </tr>\n",
       "    <tr>\n",
       "      <th>Mike Rogers (R)</th>\n",
       "      <td>0.069972</td>\n",
       "      <td>0.066444</td>\n",
       "      <td>0.064401</td>\n",
       "      <td>0.050256</td>\n",
       "      <td>0.058977</td>\n",
       "      <td>0.055445</td>\n",
       "      <td>0.054687</td>\n",
       "      <td>0.070131</td>\n",
       "      <td>0.044306</td>\n",
       "      <td>0.056108</td>\n",
       "      <td>0.069981</td>\n",
       "      <td>0.060342</td>\n",
       "      <td>0.046575</td>\n",
       "      <td>0.076550</td>\n",
       "      <td>0.089277</td>\n",
       "      <td>0.061955</td>\n",
       "      <td>0.056137</td>\n",
       "      <td>0.051539</td>\n",
       "      <td>0.070631</td>\n",
       "      <td>0.057534</td>\n",
       "    </tr>\n",
       "    <tr>\n",
       "      <th>Robert Aderholt (R)</th>\n",
       "      <td>0.099980</td>\n",
       "      <td>0.078978</td>\n",
       "      <td>0.073372</td>\n",
       "      <td>0.070627</td>\n",
       "      <td>0.093934</td>\n",
       "      <td>0.122361</td>\n",
       "      <td>0.084522</td>\n",
       "      <td>0.092721</td>\n",
       "      <td>0.059072</td>\n",
       "      <td>0.064086</td>\n",
       "      <td>0.092826</td>\n",
       "      <td>0.090079</td>\n",
       "      <td>0.060709</td>\n",
       "      <td>0.079224</td>\n",
       "      <td>0.133379</td>\n",
       "      <td>0.076984</td>\n",
       "      <td>0.105611</td>\n",
       "      <td>0.072566</td>\n",
       "      <td>0.100810</td>\n",
       "      <td>0.083287</td>\n",
       "    </tr>\n",
       "    <tr>\n",
       "      <th>Mo Brooks (R)</th>\n",
       "      <td>0.086297</td>\n",
       "      <td>0.081946</td>\n",
       "      <td>0.081745</td>\n",
       "      <td>0.072008</td>\n",
       "      <td>0.090412</td>\n",
       "      <td>0.113233</td>\n",
       "      <td>0.091384</td>\n",
       "      <td>0.096122</td>\n",
       "      <td>0.056169</td>\n",
       "      <td>0.061632</td>\n",
       "      <td>0.089806</td>\n",
       "      <td>0.085677</td>\n",
       "      <td>0.059916</td>\n",
       "      <td>0.089592</td>\n",
       "      <td>0.118347</td>\n",
       "      <td>0.073699</td>\n",
       "      <td>0.095786</td>\n",
       "      <td>0.063528</td>\n",
       "      <td>0.104593</td>\n",
       "      <td>0.094316</td>\n",
       "    </tr>\n",
       "  </tbody>\n",
       "</table>\n",
       "</div>"
      ],
      "text/plain": [
       "                     Anarchism  Antisemitism  Capitalism  Christianity  \\\n",
       "x-entity                                                                 \n",
       "Jo Bonner (R)         0.071048      0.067143    0.054021      0.053941   \n",
       "Martha Roby (R)       0.067763      0.063282    0.064275      0.055059   \n",
       "Mike Rogers (R)       0.069972      0.066444    0.064401      0.050256   \n",
       "Robert Aderholt (R)   0.099980      0.078978    0.073372      0.070627   \n",
       "Mo Brooks (R)         0.086297      0.081946    0.081745      0.072008   \n",
       "\n",
       "                     Communism  Conservatism  Democracy   Fascism  Feminism  \\\n",
       "x-entity                                                                      \n",
       "Jo Bonner (R)         0.066685      0.072421   0.058368  0.065525  0.044251   \n",
       "Martha Roby (R)       0.067058      0.098936   0.083081  0.077397  0.062446   \n",
       "Mike Rogers (R)       0.058977      0.055445   0.054687  0.070131  0.044306   \n",
       "Robert Aderholt (R)   0.093934      0.122361   0.084522  0.092721  0.059072   \n",
       "Mo Brooks (R)         0.090412      0.113233   0.091384  0.096122  0.056169   \n",
       "\n",
       "                     Islamophobia  Left-wing politics  Liberalism   Marxism  \\\n",
       "x-entity                                                                      \n",
       "Jo Bonner (R)            0.069056            0.063660    0.053091  0.059485   \n",
       "Martha Roby (R)          0.057294            0.074704    0.075141  0.054051   \n",
       "Mike Rogers (R)          0.056108            0.069981    0.060342  0.046575   \n",
       "Robert Aderholt (R)      0.064086            0.092826    0.090079  0.060709   \n",
       "Mo Brooks (R)            0.061632            0.089806    0.085677  0.059916   \n",
       "\n",
       "                     Nationalism  Neo-Nazism  Protestantism  \\\n",
       "x-entity                                                      \n",
       "Jo Bonner (R)           0.065946    0.096082       0.054214   \n",
       "Martha Roby (R)         0.060333    0.089473       0.058659   \n",
       "Mike Rogers (R)         0.076550    0.089277       0.061955   \n",
       "Robert Aderholt (R)     0.079224    0.133379       0.076984   \n",
       "Mo Brooks (R)           0.089592    0.118347       0.073699   \n",
       "\n",
       "                     Right-wing politics  Secularism  Socialism  \\\n",
       "x-entity                                                          \n",
       "Jo Bonner (R)                   0.068126    0.050647   0.073818   \n",
       "Martha Roby (R)                 0.089053    0.064666   0.087194   \n",
       "Mike Rogers (R)                 0.056137    0.051539   0.070631   \n",
       "Robert Aderholt (R)             0.105611    0.072566   0.100810   \n",
       "Mo Brooks (R)                   0.095786    0.063528   0.104593   \n",
       "\n",
       "                     White supremacy  \n",
       "x-entity                              \n",
       "Jo Bonner (R)               0.063966  \n",
       "Martha Roby (R)             0.065397  \n",
       "Mike Rogers (R)             0.057534  \n",
       "Robert Aderholt (R)         0.083287  \n",
       "Mo Brooks (R)               0.094316  "
      ]
     },
     "execution_count": 2,
     "metadata": {},
     "output_type": "execute_result"
    }
   ],
   "source": [
    "i1_mt[:5]"
   ]
  },
  {
   "cell_type": "markdown",
   "metadata": {},
   "source": [
    "### Classification using Metric Closure WITH TF-IDF/COSINE SIMILARITY MATRIX"
   ]
  },
  {
   "cell_type": "markdown",
   "metadata": {},
   "source": [
    "**Classify the truth values into R or D using SVM with linear kernel, and assess accuracy using 10-fold cross validation**"
   ]
  },
  {
   "cell_type": "code",
   "execution_count": 8,
   "metadata": {},
   "outputs": [
    {
     "name": "stdout",
     "output_type": "stream",
     "text": [
      "Mean cross-validation accuracy: 0.66\n",
      "             precision    recall  f1-score   support\n",
      "\n",
      "      False       0.66      0.67      0.67       137\n",
      "       True       0.67      0.66      0.66       138\n",
      "\n",
      "avg / total       0.67      0.67      0.67       275\n",
      "\n"
     ]
    },
    {
     "data": {
      "image/png": "[encoded data removed]",
      "text/plain": [
       "<Figure size 288x288 with 1 Axes>"
      ]
     },
     "metadata": {},
     "output_type": "display_data"
    }
   ],
   "source": [
    "from sklearn.svm import SVC\n",
    "from sklearn.model_selection import KFold, StratifiedKFold\n",
    "import matplotlib.pyplot as ps\n",
    "from sklearn.model_selection import cross_val_score \n",
    "\n",
    "#from sklearn.neighbors import KNeighborsClassifier\n",
    "kf = KFold(n_splits=10)\n",
    "#knn = KNeighborsClassifier(n_neighbors=3)\n",
    "svm_clf = SVC(C=2**15, kernel='linear')\n",
    "\n",
    "\n",
    "scoresw = cross_val_score(svm_clf,i1_mt,y,cv=kf)\n",
    "print(\"Mean cross-validation accuracy: {:.2f}\".format(np.mean(scoresw)))\n",
    "\n",
    "ypred = cross_val_predict(svm_clf, i1_mt, y, cv=kf)\n",
    "print(classification_report(y, ypred, digits=2))\n",
    "conf_mx = confusion_matrix(y, ypred, labels=[True, False])\n",
    "plt.matshow(conf_mx,cmap=plt.cm.Blues)\n",
    "\n",
    "plt.xticks(np.arange(2), ['D', 'R'])\n",
    "plt.yticks(np.arange(2), ['D', 'R'])\n",
    "plt.savefig('figures/classification/metric_tfidf_confmx.pdf')\n",
    "plt.show()\n"
   ]
  },
  {
   "cell_type": "markdown",
   "metadata": {},
   "source": [
    "**Display ROC Curve**"
   ]
  },
  {
   "cell_type": "code",
   "execution_count": 17,
   "metadata": {
    "scrolled": false
   },
   "outputs": [
    {
     "data": {
      "image/png": "[encoded data removed]",
      "text/plain": [
       "<Figure size 432x288 with 1 Axes>"
      ]
     },
     "metadata": {},
     "output_type": "display_data"
    }
   ],
   "source": [
    "from sklearn.metrics import roc_curve\n",
    "from sklearn.metrics import roc_auc_score\n",
    "\n",
    "y_scores = cross_val_predict(svm_clf, i1_mt, y, cv=kf, method=\"decision_function\")\n",
    "fpr, tpr, thresholds = roc_curve(y, y_scores)\n",
    "\n",
    "fpr, tpr, thresh = roc_curve(y, y_scores)\n",
    "auc = roc_auc_score(y, y_scores)\n",
    "plt.plot(fpr,tpr,label=\"AUC = \"+repr(auc))\n",
    "\n",
    "plt.plot([0,1],[0,1],'k--')\n",
    "plt.xlabel(\"False Positive Rate\")\n",
    "plt.ylabel(\"True Positive Rate\")\n",
    "plt.legend(loc=0)\n",
    "\n",
    "plt.savefig('figures/classification/metric_tfidf_roc.pdf', format='pdf')"
   ]
  },
  {
   "cell_type": "markdown",
   "metadata": {},
   "source": [
    "**F1 SCORE**"
   ]
  },
  {
   "cell_type": "code",
   "execution_count": 10,
   "metadata": {},
   "outputs": [
    {
     "name": "stdout",
     "output_type": "stream",
     "text": [
      "F1 Score: 0.6654501216545012\n"
     ]
    }
   ],
   "source": [
    "from sklearn.metrics import f1_score\n",
    "m_f1 = f1_score(y, ypred, average='macro')  \n",
    "print(f\"F1 Score: {m_f1}\")"
   ]
  },
  {
   "cell_type": "code",
   "execution_count": 11,
   "metadata": {},
   "outputs": [
    {
     "data": {
      "text/plain": [
       "275"
      ]
     },
     "execution_count": 11,
     "metadata": {},
     "output_type": "execute_result"
    }
   ],
   "source": [
    "len(i1_ut)"
   ]
  },
  {
   "cell_type": "markdown",
   "metadata": {},
   "source": [
    "## Classification Using Ultrametric Closure with TF-IDF/Cosine Similarity"
   ]
  },
  {
   "cell_type": "code",
   "execution_count": 11,
   "metadata": {
    "scrolled": false
   },
   "outputs": [
    {
     "name": "stdout",
     "output_type": "stream",
     "text": [
      "Mean cross-validation accuracy: 0.57\n",
      "             precision    recall  f1-score   support\n",
      "\n",
      "      False  0.5714285714 0.5547445255 0.5629629630       137\n",
      "       True  0.5704225352 0.5869565217 0.5785714286       138\n",
      "\n",
      "avg / total  0.5709237242 0.5709090909 0.5707955748       275\n",
      "\n"
     ]
    },
    {
     "data": {
      "image/png": "[encoded data removed]",
      "text/plain": [
       "<Figure size 288x288 with 1 Axes>"
      ]
     },
     "metadata": {},
     "output_type": "display_data"
    },
    {
     "name": "stdout",
     "output_type": "stream",
     "text": [
      "F1 Score: 0.5707671957671958\n"
     ]
    },
    {
     "data": {
      "image/png": "[encoded data removed]",
      "text/plain": [
       "<Figure size 432x288 with 1 Axes>"
      ]
     },
     "metadata": {},
     "output_type": "display_data"
    }
   ],
   "source": [
    "def isDemocrat(entity):\n",
    "    return entity.endswith('(R)')\n",
    "\n",
    "from sklearn.svm import SVC\n",
    "svm_clf = SVC(C=2**14, kernel='linear')\n",
    "\n",
    "from sklearn.model_selection import cross_val_score \n",
    "scoresw = cross_val_score(svm_clf,i1_ut,y,cv=kf)\n",
    "print(\"Mean cross-validation accuracy: {:.2f}\".format(np.mean(scoresw)))\n",
    "\n",
    "ypred = cross_val_predict(svm_clf, i1_ut, y, cv=kf)\n",
    "print(classification_report(y, ypred, digits=10))\n",
    "conf_mx = confusion_matrix(y, ypred, labels=[True, False])\n",
    "plt.matshow(conf_mx,cmap=plt.cm.Blues)\n",
    "plt.xticks(np.arange(2), ['D', 'R'])\n",
    "plt.yticks(np.arange(2), ['D', 'R'])\n",
    "plt.savefig('figures/classification/ultrametric_tfidf_confmx.pdf')\n",
    "plt.show()\n",
    "\n",
    "from sklearn.metrics import roc_curve\n",
    "from sklearn.metrics import roc_auc_score\n",
    "\n",
    "yw_scores = cross_val_predict(svm_clf, i1_ut, y, cv=kf, method=\"decision_function\")\n",
    "fpr, tpr, thresholds = roc_curve(y, yw_scores)\n",
    "\n",
    "fpr, tpr, thresh = roc_curve(y, yw_scores)\n",
    "auc = roc_auc_score(y, yw_scores)\n",
    "plt.plot(fpr,tpr,label=\"AUC = \"+repr(auc))\n",
    "\n",
    "plt.plot([0,1],[0,1],'k--')\n",
    "\n",
    "plt.legend(loc=0)\n",
    "plt.savefig('figures/classification/ultrametric_tfidf_roc.pdf')\n",
    "from sklearn.metrics import f1_score\n",
    "u_f1 = f1_score(y, ypred, average='macro')  \n",
    "print(f\"F1 Score: {u_f1}\")"
   ]
  },
  {
   "cell_type": "markdown",
   "metadata": {},
   "source": [
    "## Classification Task using METRIC Closure as generality (theoretical framework)\n"
   ]
  },
  {
   "cell_type": "code",
   "execution_count": 12,
   "metadata": {},
   "outputs": [
    {
     "name": "stdout",
     "output_type": "stream",
     "text": [
      "Mean cross-validation accuracy: 0.61\n",
      "             precision    recall  f1-score   support\n",
      "\n",
      "      False  0.5892857143 0.7226277372 0.6491803279       137\n",
      "       True  0.6448598131 0.5000000000 0.5632653061       138\n",
      "\n",
      "avg / total  0.6171738075 0.6109090909 0.6060666079       275\n",
      "\n"
     ]
    },
    {
     "data": {
      "image/png": "[encoded data removed]",
      "text/plain": [
       "<Figure size 288x288 with 1 Axes>"
      ]
     },
     "metadata": {},
     "output_type": "display_data"
    },
    {
     "name": "stdout",
     "output_type": "stream",
     "text": [
      "F1 Score: 0.6062228169956507\n"
     ]
    },
    {
     "data": {
      "image/png": "[encoded data removed]",
      "text/plain": [
       "<Figure size 432x288 with 1 Axes>"
      ]
     },
     "metadata": {},
     "output_type": "display_data"
    }
   ],
   "source": [
    "\n",
    "def isDemocrat(entity):\n",
    "    return entity.endswith('(R)')\n",
    "\n",
    "from sklearn.svm import SVC\n",
    "svm_clf = SVC(C=2**15, kernel='linear')\n",
    "\n",
    "from sklearn.model_selection import cross_val_score \n",
    "scoresw = cross_val_score(svm_clf,i1_mold,y,cv=kf)\n",
    "print(\"Mean cross-validation accuracy: {:.2f}\".format(np.mean(scoresw)))\n",
    "\n",
    "ypred = cross_val_predict(svm_clf, i1_mold, y, cv=kf)\n",
    "\n",
    "print(classification_report(y, ypred, digits=10))\n",
    "conf_mx = confusion_matrix(y, ypred, labels=[True,False])\n",
    "plt.matshow(conf_mx,cmap=plt.cm.Blues)\n",
    "plt.xticks(np.arange(2), ['D', 'R'])\n",
    "plt.yticks(np.arange(2), ['D', 'R'])\n",
    "plt.savefig('figures/classification/mold_confmx.pdf')\n",
    "plt.show()\n",
    "\n",
    "from sklearn.metrics import roc_curve\n",
    "from sklearn.metrics import roc_auc_score\n",
    "\n",
    "y_scores = cross_val_predict(svm_clf, i1_mold, y, cv=kf, method=\"decision_function\")\n",
    "\n",
    "fpr, tpr, thresholds = roc_curve(y, y_scores)\n",
    "\n",
    "fpr, tpr, thresh = roc_curve(y, y_scores)\n",
    "auc = roc_auc_score(y, y_scores)\n",
    "plt.plot(fpr,tpr,label=\"AUC = \"+repr(auc))\n",
    "\n",
    "plt.plot([0,1],[0,1],'k--')\n",
    "\n",
    "plt.legend(loc=0)\n",
    "plt.xlabel(\"False Positive Rate\")\n",
    "plt.ylabel(\"True Positive Rate\")\n",
    "plt.savefig('figures/classification/mold_roc.pdf')\n",
    "\n",
    "# F1 Score\n",
    "from sklearn.metrics import f1_score\n",
    "\n",
    "mold_f1 = f1_score(y, ypred, average='macro')  \n",
    "print(f\"F1 Score: {mold_f1}\")\n"
   ]
  },
  {
   "cell_type": "markdown",
   "metadata": {},
   "source": [
    "## Results\n",
    "The first algorithm, Metric Closure with TF-IDF+Cosine Similarity was more accurate in classifying the politicians, hence, Metric Closure with TF-IDF+Cosine Similarity is better at calculating the semantic proximity and truth values of the politicans to the ideologies, and will be used in the succeeding parts of this paper."
   ]
  },
  {
   "cell_type": "markdown",
   "metadata": {},
   "source": [
    "# Validation on Factual Statements\n",
    "\n",
    "Simple statements various subject areas were tested. Statements in the form of \"$p_{i}$ was married to $s_{j}$\" were considered, where $p_{i}$ is a US president, and $s_{j}$ is a spouse of a US president. A matrix of statements was then obtained by getting all the combinations of subjects and objects."
   ]
  },
  {
   "cell_type": "markdown",
   "metadata": {},
   "source": [
    "**Get the paths taken by the statements in the knowledge graph.**"
   ]
  },
  {
   "cell_type": "code",
   "execution_count": null,
   "metadata": {},
   "outputs": [],
   "source": [
    "# Uncomment these line(s) below if making a truth matrix from scratch (takes a VERY long time)\n",
    "# if truth matrices were already calculated, load from the CSV instead (bottom most part of this ntbk)\n",
    "#df = pd.read_csv('data/out/t2_output.csv', sep=';', index_col=0)\n",
    "#print(df.shape)"
   ]
  },
  {
   "cell_type": "markdown",
   "metadata": {},
   "source": [
    "**Map the truth value function to the Path matrix.**"
   ]
  },
  {
   "cell_type": "code",
   "execution_count": null,
   "metadata": {
    "scrolled": false
   },
   "outputs": [],
   "source": [
    "# Uncomment these line(s) below if making a truth matrix from scratch (takes a VERY long time)\n",
    "# if truth matrices were already calculated, load from the CSV instead (bottom most part of this ntbk)\n",
    "#w_new, w_u_new, w_mold = get_truth_matrices(df)"
   ]
  },
  {
   "cell_type": "markdown",
   "metadata": {},
   "source": [
    "**Get the confusion matrix of the truth values**"
   ]
  },
  {
   "cell_type": "code",
   "execution_count": 15,
   "metadata": {},
   "outputs": [
    {
     "name": "stdout",
     "output_type": "stream",
     "text": [
      "Confusion Matrix\n"
     ]
    },
    {
     "data": {
      "image/png": "[encoded data removed]",
      "text/plain": [
       "<Figure size 432x288 with 1 Axes>"
      ]
     },
     "metadata": {},
     "output_type": "display_data"
    }
   ],
   "source": [
    "fig, ax = plt.subplots(1,1)\n",
    "plt.xlabel('Spouse')\n",
    "plt.ylabel('US President')\n",
    "\n",
    "ax.matshow(w_new, cmap=color)\n",
    "ax.set_xticklabels([' ']+[x[0] for x in w_new.keys()][::2])\n",
    "ax.set_yticklabels([' ']+[x[0] for x in w_new.index][::2])\n",
    "print(\"Confusion Matrix\")\n",
    "\n",
    "fig.savefig('figures/phase2/president_spouse.pdf')"
   ]
  },
  {
   "cell_type": "markdown",
   "metadata": {},
   "source": [
    "**Get F1 Score**"
   ]
  },
  {
   "cell_type": "code",
   "execution_count": 15,
   "metadata": {
    "scrolled": false
   },
   "outputs": [
    {
     "name": "stdout",
     "output_type": "stream",
     "text": [
      "F1 Score: 0.9142857142857143\n"
     ]
    }
   ],
   "source": [
    "from sklearn.metrics import roc_curve\n",
    "from sklearn.metrics import roc_auc_score\n",
    "\n",
    "vfs_w_y, vfs_w_y_score = get_mx(w_new)\n",
    "ypred = cross_val_predict(svm_clf, vfs_w_y_score.reshape(-1,1), vfs_w_y, cv=kf)\n",
    "\n",
    "from sklearn.metrics import f1_score\n",
    "m_f1 = f1_score(vfs_w_y, ypred)  \n",
    "print(f\"F1 Score: {m_f1}\")\n"
   ]
  },
  {
   "cell_type": "markdown",
   "metadata": {},
   "source": [
    "### Validation of World Capitals"
   ]
  },
  {
   "cell_type": "code",
   "execution_count": null,
   "metadata": {},
   "outputs": [],
   "source": [
    "# Uncomment these line(s) below if calculating truth values from scratch.\n",
    "# Otherwise, load the CSVs at the bottom of this ntbk.\n",
    "#df_capitals = pd.read_csv('data/out/t3_countries.csv', sep=';', index_col=0)\n",
    "#df_capitals.shape"
   ]
  },
  {
   "cell_type": "markdown",
   "metadata": {},
   "source": [
    "**Map the truth value function to the matrix**"
   ]
  },
  {
   "cell_type": "code",
   "execution_count": null,
   "metadata": {},
   "outputs": [],
   "source": [
    "# Uncomment these line(s) below if calculating truth values from scratch.\n",
    "# Otherwise, load the CSVs at the bottom of this ntbk.\n",
    "#c_new, c_u_new, c_u_mold = get_truth_matrices(df_capitals)"
   ]
  },
  {
   "cell_type": "markdown",
   "metadata": {},
   "source": [
    "**Show confusion matrix**"
   ]
  },
  {
   "cell_type": "code",
   "execution_count": 16,
   "metadata": {},
   "outputs": [
    {
     "name": "stdout",
     "output_type": "stream",
     "text": [
      "Confusion Matrix\n"
     ]
    },
    {
     "data": {
      "image/png": "[encoded data removed]",
      "text/plain": [
       "<Figure size 432x288 with 1 Axes>"
      ]
     },
     "metadata": {},
     "output_type": "display_data"
    }
   ],
   "source": [
    "fig, ax = plt.subplots(1,1)\n",
    "plt.xlabel('Country')\n",
    "plt.ylabel('Capital')\n",
    "ax.matshow(c_new, cmap=color)\n",
    "print(\"Confusion Matrix\")\n",
    "fig.savefig('figures/phase2/capital_country.pdf')"
   ]
  },
  {
   "cell_type": "markdown",
   "metadata": {},
   "source": [
    "**Calculate F1 Score**"
   ]
  },
  {
   "cell_type": "code",
   "execution_count": 18,
   "metadata": {
    "scrolled": false
   },
   "outputs": [
    {
     "name": "stdout",
     "output_type": "stream",
     "text": [
      "F1 Score: 0.9655172413793104\n"
     ]
    }
   ],
   "source": [
    "vfs2_y, vfs2_y_score = get_mx(c_new)\n",
    "ypred = cross_val_predict(svm_clf, vfs2_y_score.reshape(-1,1), vfs2_y, cv=kf)\n",
    "from sklearn.metrics import f1_score\n",
    "t2_f1 = f1_score(vfs2_y, ypred)  \n",
    "print(f\"F1 Score: {t2_f1}\")"
   ]
  },
  {
   "cell_type": "markdown",
   "metadata": {},
   "source": [
    "### Validation of Directors / Movies"
   ]
  },
  {
   "cell_type": "code",
   "execution_count": 216,
   "metadata": {},
   "outputs": [],
   "source": [
    "# Uncomment these line(s) below if calculating truth values from scratch.\n",
    "# Otherwise, load the CSVs at the bottom of this ntbk.df_movies = pd.read_csv('data/out/t4_movies.csv', sep=';', index_col=0, encoding='utf-8')\n",
    "#df_movies.shape"
   ]
  },
  {
   "cell_type": "markdown",
   "metadata": {},
   "source": [
    "**Map the truth value function to the matrix**"
   ]
  },
  {
   "cell_type": "code",
   "execution_count": 217,
   "metadata": {
    "scrolled": false
   },
   "outputs": [],
   "source": [
    "# Uncomment these line(s) below if calculating truth values from scratch.\n",
    "# Otherwise, load the CSVs at the bottom of this ntbk.\n",
    "#d_new, d_u_new, d_mold = get_truth_matrices(df_movies)"
   ]
  },
  {
   "cell_type": "code",
   "execution_count": 17,
   "metadata": {},
   "outputs": [
    {
     "name": "stdout",
     "output_type": "stream",
     "text": [
      "Confusion matrix\n"
     ]
    },
    {
     "data": {
      "image/png": "[encoded data removed]",
      "text/plain": [
       "<Figure size 432x288 with 1 Axes>"
      ]
     },
     "metadata": {},
     "output_type": "display_data"
    }
   ],
   "source": [
    "fig, ax = plt.subplots(1,1)\n",
    "plt.xlabel('Movie')\n",
    "plt.ylabel('Director')\n",
    "ax.matshow(d_new, cmap=color)\n",
    "print(\"Confusion matrix\")\n",
    "fig.savefig('figures/phase2/2_confmx_movies.pdf')"
   ]
  },
  {
   "cell_type": "markdown",
   "metadata": {},
   "source": [
    "**Calculate F1 Score**\n",
    "\n",
    "F1 Score was not so high, since the results for this task has a high false positive rate (see results and discussions)."
   ]
  },
  {
   "cell_type": "code",
   "execution_count": 24,
   "metadata": {},
   "outputs": [
    {
     "name": "stdout",
     "output_type": "stream",
     "text": [
      "F1 Score: 0.3888888888888889\n"
     ]
    }
   ],
   "source": [
    "vfs2_y, vfs2_y_score = get_mx(d_new)\n",
    "ypred = cross_val_predict(svm_clf, vfs2_y_score.reshape(-1,1), vfs2_y, cv=kf)\n",
    "from sklearn.metrics import f1_score\n",
    "t2_f1 = f1_score(vfs2_y, ypred)  \n",
    "print(f\"F1 Score: {t2_f1}\")"
   ]
  },
  {
   "cell_type": "markdown",
   "metadata": {},
   "source": [
    "### Validation of US State Capitals"
   ]
  },
  {
   "cell_type": "code",
   "execution_count": null,
   "metadata": {},
   "outputs": [],
   "source": [
    "# Uncomment these line(s) below if calculating truth values from scratch.\n",
    "# Otherwise, load the CSVs at the bottom of this ntbk.\n",
    "#df_states = pd.read_csv('data/out/t5_states.csv', sep=';', index_col=0, encoding='utf-8')\n",
    "#df_states.shape"
   ]
  },
  {
   "cell_type": "code",
   "execution_count": null,
   "metadata": {},
   "outputs": [],
   "source": [
    "# Uncomment these line(s) below if calculating truth values from scratch.\n",
    "# Otherwise, load the CSVs at the bottom of this ntbk.\n",
    "#s_new, s_u_new, s_mold = get_truth_matrices(df_states)"
   ]
  },
  {
   "cell_type": "code",
   "execution_count": 20,
   "metadata": {},
   "outputs": [
    {
     "name": "stdout",
     "output_type": "stream",
     "text": [
      "Confusion matrix\n"
     ]
    },
    {
     "data": {
      "image/png": "[encoded data removed]",
      "text/plain": [
       "<Figure size 432x288 with 1 Axes>"
      ]
     },
     "metadata": {},
     "output_type": "display_data"
    }
   ],
   "source": [
    "%matplotlib inline\n",
    "fig, ax = plt.subplots(1,1)\n",
    "plt.xlabel('State')\n",
    "plt.ylabel('Capital')\n",
    "ax.matshow(s_new, cmap=color)\n",
    "print(\"Confusion matrix\")\n",
    "fig.savefig('figures/phase2/2_confmx_states.exe', format='pdf')"
   ]
  },
  {
   "cell_type": "markdown",
   "metadata": {},
   "source": [
    "**Get F1 Score**"
   ]
  },
  {
   "cell_type": "code",
   "execution_count": 26,
   "metadata": {},
   "outputs": [
    {
     "name": "stdout",
     "output_type": "stream",
     "text": [
      "F1 Score: 0.9090909090909091\n"
     ]
    }
   ],
   "source": [
    "vfs2_y, vfs2_y_score = get_mx(s_new)\n",
    "ypred = cross_val_predict(svm_clf, vfs2_y_score.reshape(-1,1), vfs2_y, cv=kf)\n",
    "from sklearn.metrics import f1_score\n",
    "t2_f1 = f1_score(vfs2_y, ypred)  \n",
    "print(f\"F1 Score: {t2_f1}\")"
   ]
  },
  {
   "cell_type": "markdown",
   "metadata": {},
   "source": [
    "### Aggregation"
   ]
  },
  {
   "cell_type": "code",
   "execution_count": 13,
   "metadata": {},
   "outputs": [
    {
     "name": "stdout",
     "output_type": "stream",
     "text": [
      "[0.34989304 0.26557676 0.25118927 0.24763552 0.24631537 0.23613277\n",
      " 0.22471282 0.22328377 0.08567668]\n"
     ]
    },
    {
     "data": {
      "text/plain": [
       "<matplotlib.legend.Legend at 0x16be112d630>"
      ]
     },
     "execution_count": 13,
     "metadata": {},
     "output_type": "execute_result"
    },
    {
     "data": {
      "image/png": "[encoded data removed]",
      "text/plain": [
       "<Figure size 432x432 with 1 Axes>"
      ]
     },
     "metadata": {},
     "output_type": "display_data"
    }
   ],
   "source": [
    "from sklearn import metrics\n",
    "import numpy as np\n",
    "import matplotlib.pyplot as plt\n",
    "\n",
    "fig, ax = plt.subplots(figsize=(6,6))\n",
    "\n",
    "#======SPOUSES===================================================================\n",
    "#plt.figure().clf()\n",
    "#ax.figure()\n",
    "y, y_score = get_mx(w_new)\n",
    "fpr, tpr, thresh = metrics.roc_curve(y, y_score)\n",
    "auc = metrics.roc_auc_score(y, y_score)\n",
    "ax.plot(fpr,tpr,'m-',label=\"Presidents/Spouses, auc={:.2f}\".format(auc))\n",
    "#------------------------------------------------------------------\n",
    "y, y_score = get_mx(w_mold)\n",
    "fpr, tpr, thresh = metrics.roc_curve(y, y_score)\n",
    "auc = metrics.roc_auc_score(y, y_score)\n",
    "ax.plot(fpr,tpr,'m--',label=\"Presidents/Spouses, auc={:.2f}\".format(auc))\n",
    "#======COUNTRIES===================================================================\n",
    "y, y_score = get_mx(c_new)\n",
    "fpr, tpr, thresh = metrics.roc_curve(y, y_score)\n",
    "auc = metrics.roc_auc_score(y, y_score)\n",
    "ax.plot(fpr,tpr,'c-',label=\"Countries/Capitals, auc={:.2f}\".format(auc))\n",
    "\n",
    "#------------------------------------------------------------------\n",
    "y, y_score = get_mx(c_u_mold)\n",
    "fpr, tpr, thresh = metrics.roc_curve(y, y_score)\n",
    "auc = metrics.roc_auc_score(y, y_score)\n",
    "ax.plot(fpr,tpr,'c--',label=\"Countries/Capitals, auc={:.2f}\".format(auc))\n",
    "#======DIRECTORS===================================================================\n",
    "y, y_score = get_mx(d_new)\n",
    "fpr, tpr, thresh = metrics.roc_curve(y, y_score)\n",
    "auc = metrics.roc_auc_score(y, y_score)\n",
    "ax.plot(fpr,tpr,'b-',label=\"Directors/Movies, auc={:.2f}\".format(auc))\n",
    "\n",
    "#------------------------------------------------------------------\n",
    "y, y_score = get_mx(d_mold)\n",
    "fpr, tpr, thresh = metrics.roc_curve(y, y_score)\n",
    "auc = metrics.roc_auc_score(y, y_score)\n",
    "ax.plot(fpr,tpr,'b--',label=\"Directors/Movies, auc={:.2f}\".format(auc))\n",
    "#======STATES===================================================================\n",
    "y, y_score = get_mx(s_new)\n",
    "fpr, tpr, thresh = metrics.roc_curve(y, y_score)\n",
    "auc = metrics.roc_auc_score(y, y_score)\n",
    "ax.plot(fpr,tpr,'y-',label=\"Directors/Movies, auc={:.5f}\".format(auc))\n",
    "\n",
    "print(thresh)\n",
    "\n",
    "#------------------------------------------------------------------\n",
    "y, y_score = get_mx(s_mold)\n",
    "fpr, tpr, thresh = metrics.roc_curve(y, y_score)\n",
    "auc = metrics.roc_auc_score(y, y_score)\n",
    "ax.plot(fpr,tpr,'y--',label=\"Directors/Movies, auc={:.2f}\".format(auc))\n",
    "\n",
    "\n",
    "ax.plot([0,1],[0,1],'r--')\n",
    "\n",
    "\n",
    "\n",
    "ax.set_xlabel('False Positive Rate')\n",
    "ax.set_ylabel('True Positive Rate')\n",
    "#ax.tight_layout()\n",
    "\n",
    "# remove this code to remove the border\n",
    "ax.set_ylim(0, 1.02)\n",
    "ax.set_xlim(-0.02, 1.02)\n",
    "\n",
    "ax.legend(loc=0)"
   ]
  },
  {
   "cell_type": "markdown",
   "metadata": {},
   "source": [
    "## Validation on annotated corpus"
   ]
  },
  {
   "cell_type": "markdown",
   "metadata": {},
   "source": [
    "**Read the list of GREC statements and their corresponding paths**"
   ]
  },
  {
   "cell_type": "code",
   "execution_count": 33,
   "metadata": {
    "scrolled": false
   },
   "outputs": [
    {
     "data": {
      "text/html": [
       "<div>\n",
       "<style scoped>\n",
       "    .dataframe tbody tr th:only-of-type {\n",
       "        vertical-align: middle;\n",
       "    }\n",
       "\n",
       "    .dataframe tbody tr th {\n",
       "        vertical-align: top;\n",
       "    }\n",
       "\n",
       "    .dataframe thead th {\n",
       "        text-align: right;\n",
       "    }\n",
       "</style>\n",
       "<table border=\"1\" class=\"dataframe\">\n",
       "  <thead>\n",
       "    <tr style=\"text-align: right;\">\n",
       "      <th></th>\n",
       "      <th>predicate</th>\n",
       "      <th>object</th>\n",
       "      <th>score</th>\n",
       "      <th>path</th>\n",
       "    </tr>\n",
       "    <tr>\n",
       "      <th>subject</th>\n",
       "      <th></th>\n",
       "      <th></th>\n",
       "      <th></th>\n",
       "      <th></th>\n",
       "    </tr>\n",
       "  </thead>\n",
       "  <tbody>\n",
       "    <tr>\n",
       "      <th>Morris S. Miller</th>\n",
       "      <td>/people/person/place_of_birth</td>\n",
       "      <td>New York City</td>\n",
       "      <td>5</td>\n",
       "      <td>Morris S. Miller&gt;Buffalo, New York&gt;New York City</td>\n",
       "    </tr>\n",
       "    <tr>\n",
       "      <th>Max Ferguson (painter)</th>\n",
       "      <td>/people/person/place_of_birth</td>\n",
       "      <td>New York City</td>\n",
       "      <td>5</td>\n",
       "      <td>Max Ferguson (painter)&gt;New York University&gt;Ber...</td>\n",
       "    </tr>\n",
       "    <tr>\n",
       "      <th>John J. Dunnigan</th>\n",
       "      <td>/people/person/place_of_birth</td>\n",
       "      <td>New York City</td>\n",
       "      <td>5</td>\n",
       "      <td>John J. Dunnigan&gt;New York (state)&gt;Arabic&gt;New Y...</td>\n",
       "    </tr>\n",
       "    <tr>\n",
       "      <th>Frederick Juengling</th>\n",
       "      <td>/people/person/place_of_birth</td>\n",
       "      <td>New York City</td>\n",
       "      <td>5</td>\n",
       "      <td>Frederick Juengling&gt;Berlin&gt;New York City</td>\n",
       "    </tr>\n",
       "    <tr>\n",
       "      <th>Reuel Denney</th>\n",
       "      <td>/people/person/place_of_birth</td>\n",
       "      <td>New York City</td>\n",
       "      <td>5</td>\n",
       "      <td>Reuel Denney&gt;Buffalo, New York&gt;New York City</td>\n",
       "    </tr>\n",
       "  </tbody>\n",
       "</table>\n",
       "</div>"
      ],
      "text/plain": [
       "                                            predicate         object  score  \\\n",
       "subject                                                                       \n",
       "Morris S. Miller        /people/person/place_of_birth  New York City      5   \n",
       "Max Ferguson (painter)  /people/person/place_of_birth  New York City      5   \n",
       "John J. Dunnigan        /people/person/place_of_birth  New York City      5   \n",
       "Frederick Juengling     /people/person/place_of_birth  New York City      5   \n",
       "Reuel Denney            /people/person/place_of_birth  New York City      5   \n",
       "\n",
       "                                                                     path  \n",
       "subject                                                                    \n",
       "Morris S. Miller         Morris S. Miller>Buffalo, New York>New York City  \n",
       "Max Ferguson (painter)  Max Ferguson (painter)>New York University>Ber...  \n",
       "John J. Dunnigan        John J. Dunnigan>New York (state)>Arabic>New Y...  \n",
       "Frederick Juengling              Frederick Juengling>Berlin>New York City  \n",
       "Reuel Denney                 Reuel Denney>Buffalo, New York>New York City  "
      ]
     },
     "execution_count": 33,
     "metadata": {},
     "output_type": "execute_result"
    }
   ],
   "source": [
    "import pandas as pd\n",
    "import numpy as np\n",
    "grec_paths = pd.read_csv(\"data/GREC/grec_final/gt_with_paths.csv\",  encoding='utf-8', sep=';', index_col=0)\n",
    "grec_paths[:5]"
   ]
  },
  {
   "cell_type": "markdown",
   "metadata": {},
   "source": [
    "**Get truth series**"
   ]
  },
  {
   "cell_type": "code",
   "execution_count": null,
   "metadata": {},
   "outputs": [],
   "source": [
    "# Uncomment these line(s) below if calculating truth values from scratch.\n",
    "# Otherwise, load the CSVs at the bottom of this ntbk.\n",
    "#grec_m, grec_u, grec_u2 = get_grec_truth_series(grec_paths)"
   ]
  },
  {
   "cell_type": "code",
   "execution_count": null,
   "metadata": {},
   "outputs": [],
   "source": [
    "# Uncomment these line(s) below if calculating truth values from scratch.\n",
    "# Otherwise, load the CSVs at the bottom of this ntbk.\n",
    "#WRITE \n",
    "#grec.to_csv('data/GREC/pob1k/gt_with_truthvals.csv', encoding='utf-8', sep=';')\n",
    "#READ\n",
    "#grec_m = pd.read_csv('data/GREC/pob1k/gt_with_truthvals.csv', encoding='utf-8', sep=';', index_col=0)"
   ]
  },
  {
   "cell_type": "code",
   "execution_count": null,
   "metadata": {
    "scrolled": false
   },
   "outputs": [],
   "source": [
    "# Uncomment these line(s) below if calculating truth values from scratch.\n",
    "# Otherwise, load the CSVs at the bottom of this ntbk.\n",
    "# Run only if truth_series was not yet calculated. Otherwise skip to 3rd cell.\n",
    "#grec_m, grec_u, grec_mold = get_grec_truth_series(grec)"
   ]
  },
  {
   "cell_type": "markdown",
   "metadata": {},
   "source": [
    "**See the truth scores**\n",
    "\n",
    "Column \"path\" is the predicted score given by the algorithm, and Column \"score\" is the aggregated score of human fact checkers, and can range from -5 to +5 (-5 with all raters having rated the statement 'false', and +5 with all raters having rated the statement 'true')"
   ]
  },
  {
   "cell_type": "code",
   "execution_count": 228,
   "metadata": {},
   "outputs": [
    {
     "data": {
      "text/html": [
       "<div>\n",
       "<style scoped>\n",
       "    .dataframe tbody tr th:only-of-type {\n",
       "        vertical-align: middle;\n",
       "    }\n",
       "\n",
       "    .dataframe tbody tr th {\n",
       "        vertical-align: top;\n",
       "    }\n",
       "\n",
       "    .dataframe thead th {\n",
       "        text-align: right;\n",
       "    }\n",
       "</style>\n",
       "<table border=\"1\" class=\"dataframe\">\n",
       "  <thead>\n",
       "    <tr style=\"text-align: right;\">\n",
       "      <th></th>\n",
       "      <th>subject</th>\n",
       "      <th>predicate</th>\n",
       "      <th>object</th>\n",
       "      <th>score</th>\n",
       "      <th>path</th>\n",
       "    </tr>\n",
       "  </thead>\n",
       "  <tbody>\n",
       "    <tr>\n",
       "      <th>0</th>\n",
       "      <td>Morris S. Miller</td>\n",
       "      <td>/people/person/place_of_birth</td>\n",
       "      <td>New York City</td>\n",
       "      <td>5.0</td>\n",
       "      <td>0.193146</td>\n",
       "    </tr>\n",
       "    <tr>\n",
       "      <th>1</th>\n",
       "      <td>Max Ferguson (painter)</td>\n",
       "      <td>/people/person/place_of_birth</td>\n",
       "      <td>New York City</td>\n",
       "      <td>5.0</td>\n",
       "      <td>0.295168</td>\n",
       "    </tr>\n",
       "    <tr>\n",
       "      <th>2</th>\n",
       "      <td>John J. Dunnigan</td>\n",
       "      <td>/people/person/place_of_birth</td>\n",
       "      <td>New York City</td>\n",
       "      <td>5.0</td>\n",
       "      <td>0.184989</td>\n",
       "    </tr>\n",
       "  </tbody>\n",
       "</table>\n",
       "</div>"
      ],
      "text/plain": [
       "                  subject                      predicate         object  \\\n",
       "0        Morris S. Miller  /people/person/place_of_birth  New York City   \n",
       "1  Max Ferguson (painter)  /people/person/place_of_birth  New York City   \n",
       "2        John J. Dunnigan  /people/person/place_of_birth  New York City   \n",
       "\n",
       "   score      path  \n",
       "0    5.0  0.193146  \n",
       "1    5.0  0.295168  \n",
       "2    5.0  0.184989  "
      ]
     },
     "execution_count": 228,
     "metadata": {},
     "output_type": "execute_result"
    }
   ],
   "source": [
    "grec_m[\"path\"] = grec_m[\"path\"].astype('float64')\n",
    "grec_m[:3]"
   ]
  },
  {
   "cell_type": "markdown",
   "metadata": {},
   "source": [
    "**Drop all nan values**\n",
    "\n",
    "These nan values were unretrievable paths (due to Wikidata entity no longer existing)"
   ]
  },
  {
   "cell_type": "code",
   "execution_count": 229,
   "metadata": {},
   "outputs": [],
   "source": [
    "grec_m = grec_m.dropna()"
   ]
  },
  {
   "cell_type": "markdown",
   "metadata": {},
   "source": [
    "**See correlation Graph**\n",
    "\n",
    "The correlation of human fact checker scores vs. the computational fact checking algorithm."
   ]
  },
  {
   "cell_type": "code",
   "execution_count": 7,
   "metadata": {},
   "outputs": [
    {
     "data": {
      "image/png": "[encoded data removed]",
      "text/plain": [
       "<Figure size 432x432 with 1 Axes>"
      ]
     },
     "metadata": {},
     "output_type": "display_data"
    }
   ],
   "source": [
    "from numpy.polynomial.polynomial import polyfit\n",
    "import matplotlib.pyplot as plt\n",
    "x = grec_m['score']\n",
    "y = grec_m['path']\n",
    "\n",
    "fig, ax = plt.subplots(1,1,figsize=(6,6))\n",
    "bb, m = polyfit(x, y, 1)\n",
    "\n",
    "ax.scatter(x,y)\n",
    "ax.plot(x, bb + m * x, 'r--')\n",
    "ax.set_ylabel(\"Computational Fact Checker\")\n",
    "ax.set_xlabel(\"Ground Truth (GREC Dataset) score\")\n",
    "fig.savefig('figures/grec/pob_correlation.pdf', format='pdf')"
   ]
  },
  {
   "cell_type": "markdown",
   "metadata": {},
   "source": [
    "**Calculate Spearman and Kendall's $\\tau$ Correlation value between**"
   ]
  },
  {
   "cell_type": "code",
   "execution_count": 231,
   "metadata": {},
   "outputs": [
    {
     "name": "stdout",
     "output_type": "stream",
     "text": [
      "Spearman Correlation\n",
      "0.40276840498587074\n",
      "6.349433264873441e-21\n",
      "Tau Correlation\n",
      "0.3171971308063854\n",
      "2.0270123085891602e-19\n"
     ]
    }
   ],
   "source": [
    "from scipy.stats import pearsonr, spearmanr, kendalltau\n",
    "r, pval = spearmanr(grec_m[\"score\"], grec_m[\"path\"])\n",
    "r_tau, pval_tau = kendalltau(grec_m[\"score\"], grec_m[\"path\"])\n",
    "\n",
    "print(\"Spearman Correlation\")\n",
    "print (r)\n",
    "print (pval)\n",
    "print(\"Tau Correlation\")\n",
    "print (r_tau)\n",
    "print (pval_tau)"
   ]
  },
  {
   "cell_type": "markdown",
   "metadata": {},
   "source": [
    "There is a correlation between the human fact checkers and the computational fact checking method, thus satisfying objective #3. For reference, here is the ROC curve, using the GREC dataset as ground truth."
   ]
  },
  {
   "cell_type": "code",
   "execution_count": 242,
   "metadata": {},
   "outputs": [
    {
     "data": {
      "image/png": "[encoded data removed]",
      "text/plain": [
       "<Figure size 432x432 with 1 Axes>"
      ]
     },
     "metadata": {},
     "output_type": "display_data"
    }
   ],
   "source": [
    "from sklearn.metrics import roc_curve\n",
    "from sklearn.metrics import roc_auc_score\n",
    "\n",
    "z = lambda x: x>0\n",
    "fig, ax = plt.subplots(figsize=(6,6))\n",
    "y = [z(x) for x in grec_m['score']]\n",
    "fpr, tpr, thresh = roc_curve(y, grec_m['path'])\n",
    "auc = roc_auc_score(y, grec_m['path'])\n",
    "ax.plot(fpr,tpr,'b-',label=\"AUC = {:.2f}\".format(auc))\n",
    "ax.plot([0,1],[0,1],'r--')\n",
    "ax.set_xlabel('False Positive Rate')\n",
    "ax.set_ylabel('True Positive Rate')\n",
    "#ax.tight_layout()\n",
    "# remove this code to remove the border\n",
    "ax.set_ylim(0, 1.02)\n",
    "ax.set_xlim(-0.02, 1.02)\n",
    "\n",
    "ax.legend(loc=0)\n",
    "fig.savefig(\"figures/Validation on Annotated Corpus/ROC_Validation_on_Annotated_Corpus.pdf\", bbox_inches='tight')\n",
    "fig.savefig(\"figures/Validation on Annotated Corpus/ROC_Validation_on_Annotated_Corpus.png\", bbox_inches='tight', format='png')"
   ]
  },
  {
   "cell_type": "markdown",
   "metadata": {},
   "source": [
    "### Validation on Degrees"
   ]
  },
  {
   "cell_type": "code",
   "execution_count": null,
   "metadata": {},
   "outputs": [],
   "source": [
    "import pandas as pd\n",
    "import numpy as np\n",
    "grec_paths = pd.read_csv(\"data/GREC/GREC_degree/gt_with_paths.csv\",  encoding='utf-8', sep=';', index_col=0)\n",
    "grec_paths[:5]"
   ]
  },
  {
   "cell_type": "code",
   "execution_count": null,
   "metadata": {},
   "outputs": [],
   "source": [
    "grec_m2, grec_u2, grec_mold2 = get_grec_truth_series(grec_paths)"
   ]
  },
  {
   "cell_type": "code",
   "execution_count": 124,
   "metadata": {},
   "outputs": [],
   "source": [
    "grec_m2 = grec_m2.dropna()"
   ]
  },
  {
   "cell_type": "code",
   "execution_count": 43,
   "metadata": {
    "scrolled": false
   },
   "outputs": [
    {
     "name": "stdout",
     "output_type": "stream",
     "text": [
      "Spearman Correlation\n",
      "0.24988641492145977\n",
      "1.4810703681758453e-08\n",
      "Tau Correlation\n",
      "0.19662283194111033\n",
      "2.6569565626479824e-08\n"
     ]
    }
   ],
   "source": [
    "from scipy.stats import pearsonr, spearmanr, kendalltau\n",
    "r, pval = spearmanr(grec_m2[\"score\"], grec_m2[\"path\"])\n",
    "r_tau, pval_tau = kendalltau(grec_m2[\"score\"], grec_m2[\"path\"])\n",
    "\n",
    "print(\"Spearman Correlation\")\n",
    "print (r)\n",
    "print (pval)\n",
    "print(\"Tau Correlation\")\n",
    "print (r_tau)\n",
    "print (pval_tau)"
   ]
  },
  {
   "cell_type": "code",
   "execution_count": 42,
   "metadata": {},
   "outputs": [
    {
     "data": {
      "image/png": "[encoded data removed]",
      "text/plain": [
       "<Figure size 432x432 with 1 Axes>"
      ]
     },
     "metadata": {},
     "output_type": "display_data"
    }
   ],
   "source": [
    "from numpy.polynomial.polynomial import polyfit\n",
    "import matplotlib.pyplot as plt\n",
    "x = grec_m2['score'].astype('float64')\n",
    "y = grec_m2['path'].astype('float64')\n",
    "\n",
    "fig, ax = plt.subplots(1,1,figsize=(6,6))\n",
    "bb, m = polyfit(x, y, 1)\n",
    "\n",
    "ax.scatter(x,y)\n",
    "ax.plot(x, bb + m * x, 'r--')\n",
    "ax.set_ylabel(\"Computational Fact Checker\")\n",
    "ax.set_xlabel(\"Ground Truth (GREC Dataset) score\")\n",
    "fig.savefig('figures/pob_correlation2.pdf', format='pdf')"
   ]
  },
  {
   "cell_type": "code",
   "execution_count": 18,
   "metadata": {},
   "outputs": [
    {
     "data": {
      "image/png": "[encoded data removed]",
      "text/plain": [
       "<Figure size 432x432 with 1 Axes>"
      ]
     },
     "metadata": {},
     "output_type": "display_data"
    }
   ],
   "source": [
    "from sklearn.metrics import roc_curve\n",
    "from sklearn.metrics import roc_auc_score\n",
    "\n",
    "z = lambda x: x>0\n",
    "fig, ax = plt.subplots(figsize=(6,6))\n",
    "y = [z(x) for x in grec_m2['score']]\n",
    "fpr, tpr, thresh = roc_curve(y, grec_m2['path'])\n",
    "auc = roc_auc_score(y, grec_m2['path'])\n",
    "ax.plot(fpr,tpr,'b-',label=\"AUC = {:.2f}\".format(auc))\n",
    "ax.plot([0,1],[0,1],'r--')\n",
    "ax.set_xlabel('False Positive Rate')\n",
    "ax.set_ylabel('True Positive Rate')\n",
    "#ax.tight_layout()\n",
    "# remove this code to remove the border\n",
    "ax.set_ylim(0, 1.02)\n",
    "ax.set_xlim(-0.02, 1.02)\n",
    "\n",
    "ax.legend(loc=0)\n",
    "fig.savefig(\"figures/grec_roc2.pdf\", bbox_inches='tight')\n",
    "#fig.savefig(\"figures/Validation on Annotated Corpus/ROC_Validation_on_Annotated_Corpus.png2\", bbox_inches='tight', format='png')"
   ]
  },
  {
   "cell_type": "markdown",
   "metadata": {},
   "source": [
    "## Other Utilities"
   ]
  },
  {
   "cell_type": "code",
   "execution_count": 4,
   "metadata": {},
   "outputs": [],
   "source": [
    "import time\n",
    "from Truth import get_truth_value, get_utfidf, get_truth_value_old\n",
    "def get_grec_truth_series(df):\n",
    "    \"\"\"\n",
    "    Returns 3 pandas dataframes:\n",
    "        - metric_tfidf\n",
    "        - umetric_tfidf\n",
    "        - metric_old\n",
    "    \"\"\"\n",
    "    metric_tfidf = df.copy()\n",
    "    umetric_tfidf = df.copy()\n",
    "    metric_old = df.copy()\n",
    "    metric_tfidf.is_copy=False\n",
    "    umetric_tfidf.is_copy=False\n",
    "    metric_old.is_copy=False\n",
    "    for idx, rowidx in enumerate(df.index):\n",
    "        print('>>>>>>>>>>>>>>>>>>>>>>>>>>>>>>>>>>>>>>>'+str(rowidx))\n",
    "        start = time.time()\n",
    "        print(f\"[{idx+1}/{len(df.index)}] {df.loc[rowidx, 'path']}\")\n",
    "        try:\n",
    "            metric_tfidf.loc[rowidx,\"path\"] = get_truth_value(metric_tfidf.loc[rowidx,\"path\"], display=False)\n",
    "            umetric_tfidf.loc[rowidx,\"path\"] = get_utfidf(umetric_tfidf.loc[rowidx,\"path\"],display=False)\n",
    "            metric_old.loc[rowidx, \"path\"] = get_truth_value_old(metric_old.loc[rowidx,\"path\"],display=False)\n",
    "        except:\n",
    "            print(f\"Value error occured @ {metric_tfidf.loc[rowidx,'path']}.\")\n",
    "            print(f\"Putting nan as value\")\n",
    "            metric_tfidf.loc[rowidx,\"path\"] = np.nan\n",
    "            umetric_tfidf.loc[rowidx,\"path\"] = np.nan\n",
    "            metric_old.loc[rowidx, \"path\"] = np.nan\n",
    "            \n",
    "        print(f\"Done {time.time()-start} seconds. m:{metric_tfidf.loc[rowidx]['path']}; u:{umetric_tfidf.loc[rowidx]['path']}; mo:{metric_old.loc[rowidx]['path']}\")\n",
    "    metric_tfidf.loc['path']= metric_tfidf['path'].astype('float64')\n",
    "    umetric_tfidf.loc['path']=umetric_tfidf['path'].astype('float64')\n",
    "    metric_old.loc['path']=metric_old['path'].astype('float64')\n",
    "    return (metric_tfidf.drop(\"path\", axis=0), umetric_tfidf.drop(\"path\", axis=0), metric_old.drop(\"path\", axis=0))"
   ]
  },
  {
   "cell_type": "markdown",
   "metadata": {},
   "source": [
    "## Other Utilities"
   ]
  },
  {
   "cell_type": "markdown",
   "metadata": {},
   "source": [
    "Save the loaded CSVs for future use. Only uncomment the variables needed."
   ]
  },
  {
   "cell_type": "code",
   "execution_count": 24,
   "metadata": {
    "scrolled": true
   },
   "outputs": [],
   "source": [
    "# Uncomment the variables you're gonna be saving.\n",
    "# CAUTION: This will override existing CSV.\n",
    "\n",
    "#=========================================\n",
    "# Phase I: Classification Task\n",
    "#=========================================\n",
    "#mold.to_csv('data/out/degmatrices/i2_mold.csv', sep=';')\n",
    "#mt.to_csv('data/out/degmatrices/i2_mt.csv', sep=';')\n",
    "#ut.to_csv('data/out/degmatrices/i2_ut.csv', sep=';')\n",
    "\n",
    "#=========================================\n",
    "# Phase II: Validation on Factual Data\n",
    "#=========================================\n",
    "# Countries/Capitals\n",
    "#c_new.to_csv('data/out/degmatrices/t3_countries/c_new.csv', sep=';')\n",
    "#c_u_new.to_csv('data/out/degmatrices/t3_countries/c_u_new.csv', sep=';')\n",
    "#c_u_mold.to_csv('data/out/degmatrices/t3_countries/c_u_mold.csv', sep=';')\n",
    "#-----------------------------------------\n",
    "# Presidents/Spouses\n",
    "#w_new.to_csv('data/out/degmatrices/t2_presidents/w_new.csv', sep=';')\n",
    "#w_u_new.to_csv('data/out/degmatrices/t2_presidents/w_u_new.csv', sep=';')\n",
    "#w_mold.to_csv('data/out/degmatrices/t2_presidents/w_mold.csv', sep=';')\n",
    "#-----------------------------------------\n",
    "# Director/Movie\n",
    "#d_new.to_csv('data/out/degmatrices/t4_movies/d_new.csv', sep=';')\n",
    "#d_u_new.to_csv('data/out/degmatrices/t4_movies/d_u_new.csv', sep=';')\n",
    "#d_mold.to_csv('data/out/degmatrices/t4_movies/d_mold.csv', sep=';')\n",
    "#-----------------------------------------\n",
    "# US State Capitals\n",
    "#s_new.to_csv('data/out/degmatrices/t5_states/s_new.csv', sep=';')\n",
    "#s_u_new.to_csv('data/out/degmatrices/t5_states/s_u_new.csv', sep=';')\n",
    "#s_mold.to_csv('data/out/degmatrices/t5_states/s_mold.csv', sep=';')\n",
    "\n",
    "#=========================================\n",
    "# Phase II: Validation on Annotated Data\n",
    "#=========================================\n",
    "#grec_m.to_csv('data/GREC/grec_final/gt_with_truthvals.csv', sep=';')\n",
    "#grec_m2.to_csv('data/GREC/GREC_degree/gt_with_truthvals.csv', sep=';')"
   ]
  },
  {
   "cell_type": "markdown",
   "metadata": {},
   "source": [
    "Load the , and concat"
   ]
  },
  {
   "cell_type": "code",
   "execution_count": 41,
   "metadata": {},
   "outputs": [],
   "source": [
    "# Uncomment the variables that will be used.\n",
    "import pandas as pd\n",
    "#=========================================\n",
    "# Phase I: Classification Task\n",
    "#=========================================\n",
    "i1_mt =  pd.read_csv('data/out/degmatrices/i1_mt.csv', sep=';', index_col=0)\n",
    "i2_mt =  pd.read_csv('data/out/degmatrices/i2_mt.csv', sep=';', index_col=0)\n",
    "i1_mt = pd.concat([i1_mt,i2_mt])\n",
    "i1_ut =  pd.read_csv('data/out/degmatrices/i1_ut.csv', sep=';', index_col=0)\n",
    "i2_ut =  pd.read_csv('data/out/degmatrices/i2_ut.csv', sep=';', index_col=0)\n",
    "i1_ut = pd.concat([i1_ut,i2_ut])\n",
    "i1_mold =  pd.read_csv('data/out/degmatrices/i1_mold.csv', sep=';', index_col=0)\n",
    "i2_mold =  pd.read_csv('data/out/degmatrices/i2_mold.csv', sep=';', index_col=0)\n",
    "i1_mold = pd.concat([i1_mold,i2_mold])\n",
    "i1_mold.to_csv('data/out/degmatrices/ide_mold.csv', sep=';')\n",
    "#i1_mt = pd.read_csv('data/out/degmatrices/ide.csv', sep=';', index_col=0)\n",
    "\n",
    "#=========================================\n",
    "# Phase II: Validation on Factual Data\n",
    "#=========================================\n",
    "# Presidents/Spouses\n",
    "w_new = pd.read_csv('data/out/degmatrices/t2_presidents/w_new.csv', sep=';', index_col=0)\n",
    "w_u_new = pd.read_csv('data/out/degmatrices/t2_presidents/w_u_new.csv', sep=';', index_col=0)\n",
    "w_mold = pd.read_csv('data/out/degmatrices/t2_presidents/w_mold.csv', sep=';', index_col=0)\n",
    "#-----------------------------------------\n",
    "# Countries/Capitals\n",
    "c_new =  pd.read_csv('data/out/degmatrices/t3_countries/c_new.csv', sep=',', index_col=0)\n",
    "c_u_new =  pd.read_csv('data/out/degmatrices/t3_countries/c_u_new.csv', sep=',', index_col=0)\n",
    "c_u_mold =  pd.read_csv('data/out/degmatrices/t3_countries/c_u_mold.csv', sep=',', index_col=0)\n",
    "#-----------------------------------------\n",
    "# Director/Movie\n",
    "d_new = pd.read_csv('data/out/degmatrices/t4_movies/d_new.csv', sep=';', index_col=0)\n",
    "d_u_new = pd.read_csv('data/out/degmatrices/t4_movies/d_u_new.csv', sep=';', index_col=0)\n",
    "d_mold = pd.read_csv('data/out/degmatrices/t4_movies/d_mold.csv', sep=';', index_col=0)\n",
    "#-----------------------------------------\n",
    "# US State Capitals\n",
    "s_new = pd.read_csv('data/out/degmatrices/t5_states/s_new.csv', sep=';', index_col=0)\n",
    "s_u_new = pd.read_csv('data/out/degmatrices/t5_states/s_u_new.csv', sep=';', index_col=0)\n",
    "s_mold = pd.read_csv('data/out/degmatrices/t5_states/s_mold.csv', sep=';', index_col=0)\n",
    "\n",
    "#=========================================\n",
    "# Phase II: Validation on Annotated Data\n",
    "#=========================================\n",
    "grec_m = pd.read_csv('data/GREC/grec_final/gt_with_truthvals.csv', sep=';', index_col = 0)\n",
    "grec_m2 = pd.read_csv('data/GREC/GREC_degree/gt_with_truthvals.csv', sep=';', index_col = 0)"
   ]
  },
  {
   "cell_type": "code",
   "execution_count": 14,
   "metadata": {},
   "outputs": [],
   "source": [
    "mold.to_csv('data/classification/new_mold.csv', sep=';', encoding='utf-8')\n",
    "ut.to_csv('data/classification/new_ut.csv', sep=';', encoding='utf-8')\n",
    "mt.to_csv('data/classification/new_mt.csv', sep=';', encoding='utf-8')"
   ]
  },
  {
   "cell_type": "code",
   "execution_count": 4,
   "metadata": {},
   "outputs": [],
   "source": [
    "mt.to_csv('data/out/degmatrices/i5_m.csv', sep=';', encoding='utf-8')\n",
    "ut.to_csv('data/out/degmatrices/i5_u.csv', sep=';', encoding='utf-8')\n",
    "mold.to_csv('data/out/degmatrices/i5_mold.csv', sep=';', encoding='utf-8')"
   ]
  },
  {
   "cell_type": "code",
   "execution_count": null,
   "metadata": {},
   "outputs": [],
   "source": []
  }
 ],
 "metadata": {
  "kernelspec": {
   "display_name": "ThesisVirtualEnvPy3",
   "language": "python",
   "name": "thesisvirtualenvpy3"
  },
  "language_info": {
   "codemirror_mode": {
    "name": "ipython",
    "version": 3
   },
   "file_extension": ".py",
   "mimetype": "text/x-python",
   "name": "python",
   "nbconvert_exporter": "python",
   "pygments_lexer": "ipython3",
   "version": "3.7.0"
  }
 },
 "nbformat": 4,
 "nbformat_minor": 2
}
